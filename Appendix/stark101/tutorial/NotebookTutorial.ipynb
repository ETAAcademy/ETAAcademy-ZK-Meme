{
 "cells": [
  {
   "cell_type": "markdown",
   "metadata": {},
   "source": [
    "*Copyright 2019 StarkWare Industries Ltd.<br> Licensed under the Apache License, Version 2.0 (the \"License\"). You may not use this file except in compliance with the License. You may obtain a copy of the License at https://www.starkware.co/open-source-license/ <br> Unless required by applicable law or agreed to in writing, software distributed under the License is distributed on an \"AS IS\" BASIS, WITHOUT WARRANTIES OR CONDITIONS OF ANY KIND, either express or implied. See the License for the specific language governing permissions and limitations under the License.*"
   ]
  },
  {
   "cell_type": "markdown",
   "metadata": {},
   "source": [
    "# Python Notebook 4-Minute Tutorial\n",
    "\n",
    "A Python notebook is \"...an interactive computational environment, in which you can combine code execution, rich text, mathematics, plots and rich media\".\n",
    "\n",
    "## Files\n",
    "\n",
    "The left pane lists the current directory in the backend. Files with `.ipynb` extension are notebook documents, like this one. But you can use it to view other text files. Try it - double click `channel.py`. Then come back to this document.\n",
    "\n",
    "## Cells\n",
    "\n",
    "Each notebook document is comprised of cells. This tutorial has two types:\n",
    "- Markdown cells.\n",
    "- Code cells.\n",
    "\n",
    "You can use Ctrl+Enter to run a cell, a markdown cell will get rendered nicely, a code cell will just run the code.\n",
    "\n",
    "**Everything you read up to this point is part of a markdown cell**.\n",
    "1. **Double-click** some word in this very line to see this cell's underlying code. \n",
    "2. Press **Ctrl+Enter** to run it and see the markdown rendered nicely again."
   ]
  },
  {
   "cell_type": "code",
   "execution_count": null,
   "metadata": {},
   "outputs": [],
   "source": [
    "# This is a code cell, note the square brackets on its left - they are important.\n",
    "# Run this cell by clicking into it and pressing Ctrl+Enter.\n",
    "for i in range(3):\n",
    "    print(i)"
   ]
  },
  {
   "cell_type": "code",
   "execution_count": null,
   "metadata": {},
   "outputs": [],
   "source": [
    "# This is a different cell, but while you are in the same document - global variables persist. \n",
    "# The part of the notebook maintaining this state is called the kernel, and can be restarted (for the entire document) using the dropdown menus.\n",
    "# Run this cell too to see (Ctrl+Enter).\n",
    "print(f'See how i\\'s value is still {i}.')"
   ]
  },
  {
   "cell_type": "markdown",
   "metadata": {},
   "source": [
    "## Running Code\n",
    "\n",
    "**Ctrl+Enter** runs the selected cell.\n",
    "**Shift+Enter** runs it *and* selects the next cell.\n",
    "\n",
    "### The Square Brackets Next to Code Cells\n",
    "These brackets are in one of these three states:\n",
    "- Are empty if you didn't run the cell (or the kernel was restarted).\n",
    "- Contain a `*` if they are currently running or queued to run (i.e. you ran it while another cell didn't finish running yet).\n",
    "- Contain a number, indicating the order of their execution.\n",
    "\n",
    "Try running the next cell, don't wait for it to finish, and run the first code cell again, to see this in action."
   ]
  },
  {
   "cell_type": "code",
   "execution_count": null,
   "metadata": {},
   "outputs": [],
   "source": [
    "from time import sleep\n",
    "\n",
    "print('Going to sleep.')\n",
    "sleep(5)\n",
    "print('Hello world.')"
   ]
  },
  {
   "cell_type": "markdown",
   "metadata": {},
   "source": [
    "# How to Use Function\n",
    "\n",
    "You can call a function without arguments, followed by a question mark, to get its documentation.\n",
    "Run the next cell to see what it looks like."
   ]
  },
  {
   "cell_type": "code",
   "execution_count": null,
   "metadata": {},
   "outputs": [],
   "source": [
    "print?"
   ]
  },
  {
   "cell_type": "markdown",
   "metadata": {},
   "source": [
    "# Now You Know \n",
    "\n",
    "![Image of Yaktocat](https://i.imgflip.com/3a8uby.jpg)\n",
    "\n",
    "**Open `Stark101-part1.ipynb` to start the tutorial.**"
   ]
  }
 ],
 "metadata": {
  "kernelspec": {
   "display_name": "Python 3",
   "language": "python",
   "name": "python3"
  },
  "language_info": {
   "codemirror_mode": {
    "name": "ipython",
    "version": 3
   },
   "file_extension": ".py",
   "mimetype": "text/x-python",
   "name": "python",
   "nbconvert_exporter": "python",
   "pygments_lexer": "ipython3",
   "version": "3.6.8"
  }
 },
 "nbformat": 4,
 "nbformat_minor": 4
}
